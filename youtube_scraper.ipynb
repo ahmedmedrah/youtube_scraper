{
 "cells": [
  {
   "cell_type": "code",
   "execution_count": 37,
   "metadata": {},
   "outputs": [],
   "source": [
    "from selenium import webdriver\n",
    "from selenium.webdriver.common.keys import Keys\n",
    "\n",
    "from webdriver_manager.microsoft import EdgeChromiumDriverManager\n",
    "\n",
    "import time\n",
    "from bs4 import BeautifulSoup\n",
    "import pandas as pd"
   ]
  },
  {
   "cell_type": "code",
   "execution_count": 38,
   "metadata": {},
   "outputs": [
    {
     "name": "stderr",
     "output_type": "stream",
     "text": [
      "[WDM] - Driver [C:\\Users\\Ahmed Medra\\.wdm\\drivers\\edgedriver\\win64\\85.0.564.70\\msedgedriver.exe] found in cache\n"
     ]
    }
   ],
   "source": [
    "driver = webdriver.Edge(EdgeChromiumDriverManager().install())"
   ]
  },
  {
   "cell_type": "code",
   "execution_count": 56,
   "metadata": {},
   "outputs": [],
   "source": [
    "driver.get('https://www.youtube.com/c/TrickGamingYT/videos')"
   ]
  },
  {
   "cell_type": "code",
   "execution_count": 57,
   "metadata": {},
   "outputs": [],
   "source": [
    "for _ in range(5):\n",
    "    driver.find_element_by_tag_name('body').send_keys(Keys.END)\n",
    "    time.sleep(3)"
   ]
  },
  {
   "cell_type": "code",
   "execution_count": 58,
   "metadata": {},
   "outputs": [],
   "source": [
    "html = driver.page_source"
   ]
  },
  {
   "cell_type": "code",
   "execution_count": 59,
   "metadata": {},
   "outputs": [],
   "source": [
    "soup = BeautifulSoup(html,'html.parser')"
   ]
  },
  {
   "cell_type": "code",
   "execution_count": 60,
   "metadata": {},
   "outputs": [],
   "source": [
    "videos = soup.find_all('div',{'id':'dismissable'})"
   ]
  },
  {
   "cell_type": "code",
   "execution_count": 71,
   "metadata": {},
   "outputs": [],
   "source": [
    "master_list = []\n",
    "for video in videos:\n",
    "    video_dict = {}\n",
    "    video_dict['title'] = video.find('a',{'id':'video-title'}).text\n",
    "    video_dict['link'] = 'https://www.youtube.com' + video.find('a',{'id':'video-title'})['href']    \n",
    "    driver.get(video_dict['link'])  \n",
    "    time.sleep(3)\n",
    "    video_html = driver.page_source\n",
    "    video_soup = BeautifulSoup(video_html,'html.parser')\n",
    "    video_dict['views'] = int(video_soup.find('span',{'class':'view-count'}).text.split()[0].replace(',',''))\n",
    "    video_dict['date'] = video_soup.find('div',{'id':'date'}).text.replace('•','')\n",
    "    master_list.append(video_dict)"
   ]
  },
  {
   "cell_type": "code",
   "execution_count": 72,
   "metadata": {},
   "outputs": [],
   "source": [
    "df = pd.DataFrame(master_list)"
   ]
  },
  {
   "cell_type": "code",
   "execution_count": 76,
   "metadata": {},
   "outputs": [
    {
     "data": {
      "text/html": [
       "<div>\n",
       "<style scoped>\n",
       "    .dataframe tbody tr th:only-of-type {\n",
       "        vertical-align: middle;\n",
       "    }\n",
       "\n",
       "    .dataframe tbody tr th {\n",
       "        vertical-align: top;\n",
       "    }\n",
       "\n",
       "    .dataframe thead th {\n",
       "        text-align: right;\n",
       "    }\n",
       "</style>\n",
       "<table border=\"1\" class=\"dataframe\">\n",
       "  <thead>\n",
       "    <tr style=\"text-align: right;\">\n",
       "      <th></th>\n",
       "      <th>title</th>\n",
       "      <th>link</th>\n",
       "      <th>views</th>\n",
       "      <th>date</th>\n",
       "    </tr>\n",
       "  </thead>\n",
       "  <tbody>\n",
       "    <tr>\n",
       "      <th>0</th>\n",
       "      <td>Big Back Wooped Em' All</td>\n",
       "      <td>https://www.youtube.com/watch?v=xsFuJoE1zBY</td>\n",
       "      <td>54301</td>\n",
       "      <td>Premiered 21 hours ago</td>\n",
       "    </tr>\n",
       "    <tr>\n",
       "      <th>1</th>\n",
       "      <td>ONE dot did OVER 9,000 DAMAGE</td>\n",
       "      <td>https://www.youtube.com/watch?v=CfH-z6ReI60</td>\n",
       "      <td>89732</td>\n",
       "      <td>Premiered Oct 2, 2020</td>\n",
       "    </tr>\n",
       "    <tr>\n",
       "      <th>2</th>\n",
       "      <td>I'm trolling</td>\n",
       "      <td>https://www.youtube.com/watch?v=5nIUnJVkEVE</td>\n",
       "      <td>81781</td>\n",
       "      <td>Premiered Sep 29, 2020</td>\n",
       "    </tr>\n",
       "    <tr>\n",
       "      <th>3</th>\n",
       "      <td>The CRACKTATION dyr</td>\n",
       "      <td>https://www.youtube.com/watch?v=EOw1h2NpKac</td>\n",
       "      <td>107472</td>\n",
       "      <td>Premiered Sep 28, 2020</td>\n",
       "    </tr>\n",
       "    <tr>\n",
       "      <th>4</th>\n",
       "      <td>Big time throws</td>\n",
       "      <td>https://www.youtube.com/watch?v=iNIp7vRj0Ho</td>\n",
       "      <td>82076</td>\n",
       "      <td>Sep 27, 2020</td>\n",
       "    </tr>\n",
       "  </tbody>\n",
       "</table>\n",
       "</div>"
      ],
      "text/plain": [
       "                           title                                         link  \\\n",
       "0        Big Back Wooped Em' All  https://www.youtube.com/watch?v=xsFuJoE1zBY   \n",
       "1  ONE dot did OVER 9,000 DAMAGE  https://www.youtube.com/watch?v=CfH-z6ReI60   \n",
       "2                   I'm trolling  https://www.youtube.com/watch?v=5nIUnJVkEVE   \n",
       "3            The CRACKTATION dyr  https://www.youtube.com/watch?v=EOw1h2NpKac   \n",
       "4                Big time throws  https://www.youtube.com/watch?v=iNIp7vRj0Ho   \n",
       "\n",
       "    views                    date  \n",
       "0   54301  Premiered 21 hours ago  \n",
       "1   89732   Premiered Oct 2, 2020  \n",
       "2   81781  Premiered Sep 29, 2020  \n",
       "3  107472  Premiered Sep 28, 2020  \n",
       "4   82076            Sep 27, 2020  "
      ]
     },
     "execution_count": 76,
     "metadata": {},
     "output_type": "execute_result"
    }
   ],
   "source": [
    "df.head()"
   ]
  },
  {
   "cell_type": "code",
   "execution_count": 75,
   "metadata": {},
   "outputs": [],
   "source": [
    "df.to_csv('trick_gaming.csv',index=False,encoding='UTF-8')"
   ]
  },
  {
   "cell_type": "code",
   "execution_count": null,
   "metadata": {},
   "outputs": [],
   "source": []
  }
 ],
 "metadata": {
  "kernelspec": {
   "display_name": "Python 3.7.6 64-bit ('base': conda)",
   "language": "python",
   "name": "python37664bitbaseconda6580541437ae4ee4bd799c9d9e1a3052"
  },
  "language_info": {
   "codemirror_mode": {
    "name": "ipython",
    "version": 3
   },
   "file_extension": ".py",
   "mimetype": "text/x-python",
   "name": "python",
   "nbconvert_exporter": "python",
   "pygments_lexer": "ipython3",
   "version": "3.7.9"
  }
 },
 "nbformat": 4,
 "nbformat_minor": 4
}
